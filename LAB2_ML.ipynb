{
 "cells": [
  {
   "cell_type": "markdown",
   "id": "4e19d1d2",
   "metadata": {},
   "source": [
    "# Q1"
   ]
  },
  {
   "cell_type": "code",
   "execution_count": 1,
   "id": "34a44fb6",
   "metadata": {},
   "outputs": [
    {
     "name": "stdout",
     "output_type": "stream",
     "text": [
      "['Purchase data', 'IRCTC Stock Price', 'thyroid0387_UCI', 'marketing_campaign']\n"
     ]
    }
   ],
   "source": [
    "import pandas as pd\n",
    " \n",
    "# Load the Excel file\n",
    "file_path = r\"C:\\Users\\year3\\Downloads\\Lab Session Data.xlsx\"\n",
    "excel_file = pd.ExcelFile(file_path)\n",
    " \n",
    "# Print all sheet names\n",
    "print(excel_file.sheet_names)"
   ]
  },
  {
   "cell_type": "code",
   "execution_count": 2,
   "id": "9a42c884",
   "metadata": {},
   "outputs": [
    {
     "name": "stdout",
     "output_type": "stream",
     "text": [
      "  Customer  Candies (#)  Mangoes (Kg)  Milk Packets (#)  Payment (Rs)  \\\n",
      "0      C_1           20             6                 2           386   \n",
      "1      C_2           16             3                 6           289   \n",
      "2      C_3           27             6                 2           393   \n",
      "3      C_4           19             1                 2           110   \n",
      "4      C_5           24             4                 2           280   \n",
      "\n",
      "   Unnamed: 5  Unnamed: 6  Unnamed: 7  Unnamed: 8  Unnamed: 9  ...  \\\n",
      "0         NaN         NaN         NaN         NaN         NaN  ...   \n",
      "1         NaN         NaN         NaN         NaN         NaN  ...   \n",
      "2         NaN         NaN         NaN         NaN         NaN  ...   \n",
      "3         NaN         NaN         NaN         NaN         NaN  ...   \n",
      "4         NaN         NaN         NaN         NaN         NaN  ...   \n",
      "\n",
      "   Unnamed: 12  Unnamed: 13  Unnamed: 14  Unnamed: 15  Unnamed: 16  \\\n",
      "0          NaN          NaN          NaN          NaN          NaN   \n",
      "1          NaN          NaN          NaN          NaN          NaN   \n",
      "2          NaN          NaN          NaN          NaN          NaN   \n",
      "3          NaN          NaN          NaN          NaN          NaN   \n",
      "4          NaN          NaN          NaN          NaN          NaN   \n",
      "\n",
      "   Unnamed: 17  Unnamed: 18  Candy  Mango  Milk  \n",
      "0          NaN          NaN    1.0   55.0  18.0  \n",
      "1          NaN          NaN    NaN    NaN   NaN  \n",
      "2          NaN          NaN    NaN    NaN   NaN  \n",
      "3          NaN          NaN    NaN    NaN   NaN  \n",
      "4          NaN          NaN    NaN    NaN   NaN  \n",
      "\n",
      "[5 rows x 22 columns]\n"
     ]
    }
   ],
   "source": [
    "import pandas as pd\n",
    "import numpy as np\n",
    " \n",
    "# Load the data from the correct sheet\n",
    "data = pd.read_excel(r\"C:\\Users\\year3\\Downloads\\Lab Session Data.xlsx\", sheet_name='Purchase data')\n",
    " \n",
    "# Display the first few rows of the data to understand its structure\n",
    "print(data.head())"
   ]
  },
  {
   "cell_type": "code",
   "execution_count": 3,
   "id": "be03592f",
   "metadata": {},
   "outputs": [
    {
     "name": "stdout",
     "output_type": "stream",
     "text": [
      "Index(['Customer', 'Candies (#)', 'Mangoes (Kg)', 'Milk Packets (#)',\n",
      "       'Payment (Rs)', 'Unnamed: 5', 'Unnamed: 6', 'Unnamed: 7', 'Unnamed: 8',\n",
      "       'Unnamed: 9', 'Unnamed: 10', 'Unnamed: 11', 'Unnamed: 12',\n",
      "       'Unnamed: 13', 'Unnamed: 14', 'Unnamed: 15', 'Unnamed: 16',\n",
      "       'Unnamed: 17', 'Unnamed: 18', 'Candy', 'Mango', 'Milk'],\n",
      "      dtype='object')\n",
      "   Candies (#)  Mangoes (Kg)  Milk Packets (#)  Payment (Rs)\n",
      "0           20             6                 2           386\n",
      "1           16             3                 6           289\n",
      "2           27             6                 2           393\n",
      "3           19             1                 2           110\n",
      "4           24             4                 2           280\n",
      "Dimensionality of the vector space: 3\n",
      "Number of vectors in the vector space: 10\n",
      "Rank of Matrix A: 3\n",
      "Cost of each product available for sale: [ 1. 55. 18.]\n"
     ]
    }
   ],
   "source": [
    "import pandas as pd\n",
    "import numpy as np\n",
    " \n",
    "# Load the Excel file\n",
    "file_path = r\"C:\\Users\\year3\\Downloads\\Lab Session Data.xlsx\"\n",
    "data = pd.read_excel(file_path, sheet_name='Purchase data')\n",
    " \n",
    "# Display the column names to confirm the relevant columns\n",
    "print(data.columns)\n",
    " \n",
    "# Extract relevant columns and drop rows with NaN values\n",
    "relevant_columns = ['Candies (#)', 'Mangoes (Kg)', 'Milk Packets (#)', 'Payment (Rs)']\n",
    "data = data[relevant_columns]\n",
    " \n",
    "# Convert relevant columns to numeric and drop any rows with NaN values\n",
    "data = data.apply(pd.to_numeric, errors='coerce').dropna()\n",
    " \n",
    "# Display the cleaned data\n",
    "print(data.head())\n",
    " \n",
    "# Define matrix A (features) and vector C (target)\n",
    "A = data[['Candies (#)', 'Mangoes (Kg)', 'Milk Packets (#)']].values  # Features matrix\n",
    "C = data['Payment (Rs)'].values   # Target vector\n",
    " \n",
    "# Calculate the dimensionality, number of vectors, and rank of matrix A\n",
    "num_features = A.shape[1]  # Number of columns in A\n",
    "num_vectors = A.shape[0]   # Number of rows in A\n",
    "rank_A = np.linalg.matrix_rank(A)\n",
    " \n",
    "# Compute pseudo-inverse and cost vector\n",
    "A_pseudo_inv = np.linalg.pinv(A)\n",
    "cost_vector = A_pseudo_inv @ C\n",
    " \n",
    "# Print results\n",
    "print(f\"Dimensionality of the vector space: {num_features}\")\n",
    "print(f\"Number of vectors in the vector space: {num_vectors}\")\n",
    "print(f\"Rank of Matrix A: {rank_A}\")\n",
    "print(f\"Cost of each product available for sale: {cost_vector}\")"
   ]
  },
  {
   "cell_type": "code",
   "execution_count": null,
   "id": "0b668bc2",
   "metadata": {},
   "outputs": [],
   "source": []
  }
 ],
 "metadata": {
  "kernelspec": {
   "display_name": "Python 3 (ipykernel)",
   "language": "python",
   "name": "python3"
  },
  "language_info": {
   "codemirror_mode": {
    "name": "ipython",
    "version": 3
   },
   "file_extension": ".py",
   "mimetype": "text/x-python",
   "name": "python",
   "nbconvert_exporter": "python",
   "pygments_lexer": "ipython3",
   "version": "3.9.13"
  }
 },
 "nbformat": 4,
 "nbformat_minor": 5
}
