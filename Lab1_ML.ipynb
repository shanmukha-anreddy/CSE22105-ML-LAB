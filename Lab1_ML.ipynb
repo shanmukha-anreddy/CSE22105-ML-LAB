{
 "cells": [
  {
   "cell_type": "markdown",
   "id": "fa14d25d-4624-4835-a347-d2efe9acd5a1",
   "metadata": {},
   "source": [
    "# Q1"
   ]
  },
  {
   "cell_type": "code",
   "execution_count": 1,
   "id": "e74558ae-dd26-4aa5-9e36-0866ac159dfd",
   "metadata": {},
   "outputs": [
    {
     "name": "stdout",
     "output_type": "stream",
     "text": [
      "Number of pairs in the given arr list is : 2\n"
     ]
    }
   ],
   "source": [
    "\n",
    "def count_pair(arr, k):\n",
    "    cont = 0\n",
    "    n = len(arr)\n",
    "    pairs = set()\n",
    "    #nested for loop \n",
    "    for i in range(n):\n",
    "        for j in range(i + 1, n):  \n",
    "            if arr[i] + arr[j] == k:\n",
    "                pairs.add((arr[i], arr[j]))\n",
    "    cont = len(pairs)\n",
    "    return cont\n",
    " \n",
    "arr = [2, 7, 4, 1, 3, 6]\n",
    "k = 10\n",
    "pair_count = count_pair(arr, k)\n",
    "print(\"Number of pairs in the given arr list is :\", pair_count)"
   ]
  },
  {
   "cell_type": "markdown",
   "id": "078b3d2b-8446-474e-926b-d4d30a9046e9",
   "metadata": {},
   "source": [
    "# Q2"
   ]
  },
  {
   "cell_type": "code",
   "execution_count": 3,
   "id": "64927074-70a8-4974-b8b5-bb41e0c02194",
   "metadata": {},
   "outputs": [
    {
     "name": "stdout",
     "output_type": "stream",
     "text": [
      "47\n"
     ]
    }
   ],
   "source": [
    "def ran(arr):\n",
    " x = arr[0]\n",
    " y = arr[0]\n",
    " for i in arr:\n",
    "    if i > x:\n",
    "      x = i  \n",
    "    if i < y:\n",
    "      y = i \n",
    " z = x - y\n",
    " return z \n",
    "\n",
    "arr=[2,8,4,1,3,6,48]\n",
    "result = ran(arr)\n",
    "print(result)"
   ]
  },
  {
   "cell_type": "markdown",
   "id": "10a8567a-e930-46e0-87ae-80318a270bb2",
   "metadata": {},
   "source": [
    "# Q3"
   ]
  },
  {
   "cell_type": "code",
   "execution_count": 7,
   "id": "b8dc2dee-0ab9-4e29-bff8-5150a8440674",
   "metadata": {},
   "outputs": [
    {
     "name": "stdin",
     "output_type": "stream",
     "text": [
      "Enter the dimensions of the square matrix:  3\n"
     ]
    },
    {
     "name": "stdout",
     "output_type": "stream",
     "text": [
      "Enter the elements of the matrix row by row:\n"
     ]
    },
    {
     "name": "stdin",
     "output_type": "stream",
     "text": [
      "Element [1][1]:  1\n",
      "Element [1][2]:  2\n",
      "Element [1][3]:  3\n",
      "Element [2][1]:  4\n",
      "Element [2][2]:  5\n",
      "Element [2][3]:  6\n",
      "Element [3][1]:  7\n",
      "Element [3][2]:  8\n",
      "Element [3][3]:  9\n",
      "Enter the number of times to multiply the matrix:  3\n"
     ]
    },
    {
     "name": "stdout",
     "output_type": "stream",
     "text": [
      "The resulting matrix after multiplication is:\n",
      "[468, 576, 684]\n",
      "[1062, 1305, 1548]\n",
      "[1656, 2034, 2412]\n"
     ]
    }
   ],
   "source": [
    "def matrix_multiplication(matrix, rows, m):\n",
    "   \n",
    "    result = [[1 if i == j else 0 for j in range(rows)] for i in range(rows)]\n",
    "    \n",
    "    \n",
    "    for _ in range(m):\n",
    "        mul = [[0 for _ in range(rows)] for _ in range(rows)]\n",
    "        for i in range(rows):\n",
    "            for j in range(rows):\n",
    "                for k in range(rows):\n",
    "                    mul[i][j] += result[i][k] * matrix[k][j]\n",
    "        result = mul\n",
    "    return result\n",
    "\n",
    "\n",
    "rows = int(input(\"Enter the dimensions of the square matrix: \"))\n",
    "matrix = []\n",
    "\n",
    "\n",
    "print(\"Enter the elements of the matrix row by row:\")\n",
    "for i in range(rows):\n",
    "    row = []\n",
    "    for j in range(rows):\n",
    "        row.append(int(input(f\"Element [{i+1}][{j+1}]: \")))\n",
    "    matrix.append(row)\n",
    "\n",
    "m = int(input(\"Enter the number of times to multiply the matrix: \"))\n",
    "matrix1 = matrix_multiplication(matrix, rows, m)\n",
    "\n",
    "\n",
    "print(\"The resulting matrix after multiplication is:\")\n",
    "for row in matrix1:\n",
    "    print(row)\n"
   ]
  },
  {
   "cell_type": "markdown",
   "id": "3252b4a6-ca4f-4d1f-a8a8-bf3adc667446",
   "metadata": {},
   "source": [
    "# Q4"
   ]
  },
  {
   "cell_type": "code",
   "execution_count": 11,
   "id": "65c03480-ce93-428a-845e-fde55a16af98",
   "metadata": {},
   "outputs": [
    {
     "name": "stdin",
     "output_type": "stream",
     "text": [
      "Enter a string:  machine learning\n"
     ]
    },
    {
     "name": "stdout",
     "output_type": "stream",
     "text": [
      "The maximally occuring character is 'n' with a count of 3.\n"
     ]
    }
   ],
   "source": [
    "def highest_occurrence_character(s):\n",
    "   \n",
    "    char_count = {}\n",
    "    \n",
    "   \n",
    "    for char in s:\n",
    "        \n",
    "        if char not in char_count:\n",
    "            char_count[char] = 0\n",
    "        \n",
    "        char_count[char] += 1\n",
    "    \n",
    "    \n",
    "    high_char = None\n",
    "    high_count = 0\n",
    "    \n",
    "    \n",
    "    for char in char_count:\n",
    "        if char_count[char] > high_count:\n",
    "            high_count = char_count[char]\n",
    "            high_char = char\n",
    "    \n",
    "    return high_char, high_count\n",
    "\n",
    "\n",
    "input_string = input(\"Enter a string: \")\n",
    "character, count = highest_occurrence_character(input_string)\n",
    "print(f\"The maximally occuring character is '{character}' with a count of {count}.\")"
   ]
  },
  {
   "cell_type": "code",
   "execution_count": null,
   "id": "054a5cac-c2e2-4918-b558-264b4a944905",
   "metadata": {},
   "outputs": [],
   "source": []
  }
 ],
 "metadata": {
  "kernelspec": {
   "display_name": "Python 3 (ipykernel)",
   "language": "python",
   "name": "python3"
  },
  "language_info": {
   "codemirror_mode": {
    "name": "ipython",
    "version": 3
   },
   "file_extension": ".py",
   "mimetype": "text/x-python",
   "name": "python",
   "nbconvert_exporter": "python",
   "pygments_lexer": "ipython3",
   "version": "3.12.4"
  }
 },
 "nbformat": 4,
 "nbformat_minor": 5
}
